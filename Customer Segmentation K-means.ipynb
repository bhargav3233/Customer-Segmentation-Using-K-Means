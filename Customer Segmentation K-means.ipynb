{
 "cells": [
  {
   "cell_type": "code",
   "execution_count": 13,
   "id": "7c9bf9f6",
   "metadata": {},
   "outputs": [],
   "source": [
    "import numpy as np\n",
    "import pandas as pd\n",
    "import seaborn as sns\n",
    "import matplotlib.pyplot as plt\n",
    "import warnings\n",
    "warnings.filterwarnings(\"ignore\")"
   ]
  },
  {
   "cell_type": "code",
   "execution_count": 2,
   "id": "51f9af9a",
   "metadata": {},
   "outputs": [],
   "source": [
    "df = pd.read_csv('D:/MLProjects/customer segmentation/Mall_Customers.csv')"
   ]
  },
  {
   "cell_type": "code",
   "execution_count": 3,
   "id": "c1c580ec",
   "metadata": {},
   "outputs": [
    {
     "data": {
      "text/html": [
       "<div>\n",
       "<style scoped>\n",
       "    .dataframe tbody tr th:only-of-type {\n",
       "        vertical-align: middle;\n",
       "    }\n",
       "\n",
       "    .dataframe tbody tr th {\n",
       "        vertical-align: top;\n",
       "    }\n",
       "\n",
       "    .dataframe thead th {\n",
       "        text-align: right;\n",
       "    }\n",
       "</style>\n",
       "<table border=\"1\" class=\"dataframe\">\n",
       "  <thead>\n",
       "    <tr style=\"text-align: right;\">\n",
       "      <th></th>\n",
       "      <th>CustomerID</th>\n",
       "      <th>Gender</th>\n",
       "      <th>Age</th>\n",
       "      <th>Annual Income (k$)</th>\n",
       "      <th>Spending Score (1-100)</th>\n",
       "    </tr>\n",
       "  </thead>\n",
       "  <tbody>\n",
       "    <tr>\n",
       "      <th>0</th>\n",
       "      <td>1</td>\n",
       "      <td>Male</td>\n",
       "      <td>19</td>\n",
       "      <td>15</td>\n",
       "      <td>39</td>\n",
       "    </tr>\n",
       "    <tr>\n",
       "      <th>1</th>\n",
       "      <td>2</td>\n",
       "      <td>Male</td>\n",
       "      <td>21</td>\n",
       "      <td>15</td>\n",
       "      <td>81</td>\n",
       "    </tr>\n",
       "    <tr>\n",
       "      <th>2</th>\n",
       "      <td>3</td>\n",
       "      <td>Female</td>\n",
       "      <td>20</td>\n",
       "      <td>16</td>\n",
       "      <td>6</td>\n",
       "    </tr>\n",
       "    <tr>\n",
       "      <th>3</th>\n",
       "      <td>4</td>\n",
       "      <td>Female</td>\n",
       "      <td>23</td>\n",
       "      <td>16</td>\n",
       "      <td>77</td>\n",
       "    </tr>\n",
       "    <tr>\n",
       "      <th>4</th>\n",
       "      <td>5</td>\n",
       "      <td>Female</td>\n",
       "      <td>31</td>\n",
       "      <td>17</td>\n",
       "      <td>40</td>\n",
       "    </tr>\n",
       "  </tbody>\n",
       "</table>\n",
       "</div>"
      ],
      "text/plain": [
       "   CustomerID  Gender  Age  Annual Income (k$)  Spending Score (1-100)\n",
       "0           1    Male   19                  15                      39\n",
       "1           2    Male   21                  15                      81\n",
       "2           3  Female   20                  16                       6\n",
       "3           4  Female   23                  16                      77\n",
       "4           5  Female   31                  17                      40"
      ]
     },
     "execution_count": 3,
     "metadata": {},
     "output_type": "execute_result"
    }
   ],
   "source": [
    "df.head()"
   ]
  },
  {
   "cell_type": "markdown",
   "id": "da3903bc",
   "metadata": {},
   "source": [
    "# Scaling"
   ]
  },
  {
   "cell_type": "code",
   "execution_count": 4,
   "id": "6f09a47f",
   "metadata": {},
   "outputs": [],
   "source": [
    "from sklearn.preprocessing import MinMaxScaler\n",
    "scaling = MinMaxScaler()"
   ]
  },
  {
   "cell_type": "code",
   "execution_count": 5,
   "id": "c31e0b88",
   "metadata": {},
   "outputs": [],
   "source": [
    "scaling.fit(df[['Annual Income (k$)']])\n",
    "df['Annual Income (k$)'] = scaling.transform(df[['Annual Income (k$)']])"
   ]
  },
  {
   "cell_type": "code",
   "execution_count": 6,
   "id": "07c598eb",
   "metadata": {},
   "outputs": [],
   "source": [
    "scaling.fit(df[['Spending Score (1-100)']])\n",
    "df['Spending Score (1-100)'] = scaling.transform(df[['Spending Score (1-100)']])"
   ]
  },
  {
   "cell_type": "code",
   "execution_count": 7,
   "id": "1dd6071b",
   "metadata": {},
   "outputs": [],
   "source": [
    "X = df.iloc[:,[3,4]].values"
   ]
  },
  {
   "cell_type": "markdown",
   "id": "57b8b4ed",
   "metadata": {},
   "source": [
    "# K-means"
   ]
  },
  {
   "cell_type": "code",
   "execution_count": 8,
   "id": "57957050",
   "metadata": {},
   "outputs": [],
   "source": [
    "from sklearn.cluster import KMeans\n",
    "cluster = KMeans()"
   ]
  },
  {
   "cell_type": "code",
   "execution_count": 20,
   "id": "e7921e0e",
   "metadata": {},
   "outputs": [],
   "source": [
    "#within clusters sum of squares\n",
    "\n",
    "wcss = []\n",
    "for i in range(1,10):\n",
    "    cluster = KMeans(n_clusters=i,init='k-means++', random_state=42)\n",
    "    cluster.fit(X)\n",
    "    wcss.append(cluster.inertia_)"
   ]
  },
  {
   "cell_type": "markdown",
   "id": "d8d4a9ff",
   "metadata": {},
   "source": [
    "intertia will give wcss values for each values of i."
   ]
  },
  {
   "cell_type": "markdown",
   "id": "91be4b25",
   "metadata": {},
   "source": [
    "# Elbow"
   ]
  },
  {
   "cell_type": "code",
   "execution_count": 21,
   "id": "cb3df29a",
   "metadata": {},
   "outputs": [
    {
     "data": {
      "image/png": "[encoded data removed]",
      "text/plain": [
       "<Figure size 432x288 with 1 Axes>"
      ]
     },
     "metadata": {
      "needs_background": "light"
     },
     "output_type": "display_data"
    }
   ],
   "source": [
    "plt.plot(range(1,10),wcss)   #range is x and wcss is y axis\n",
    "plt.xlabel('No of Clusters')\n",
    "plt.ylabel('WCSS')\n",
    "plt.title('Elbow Graph')\n",
    "plt.show()"
   ]
  },
  {
   "cell_type": "markdown",
   "id": "a90080ac",
   "metadata": {},
   "source": [
    "# Fitting With OPtimal CLusters"
   ]
  },
  {
   "cell_type": "code",
   "execution_count": 22,
   "id": "79c44015",
   "metadata": {},
   "outputs": [],
   "source": [
    "cluster = KMeans(n_clusters=5)"
   ]
  },
  {
   "cell_type": "code",
   "execution_count": 23,
   "id": "1b0a6189",
   "metadata": {},
   "outputs": [],
   "source": [
    "clusters = cluster.fit_predict(X)"
   ]
  },
  {
   "cell_type": "code",
   "execution_count": 27,
   "id": "5971c2a2",
   "metadata": {},
   "outputs": [
    {
     "data": {
      "text/plain": [
       "array([0, 3, 0, 3, 0, 3, 0, 3, 0, 3, 0, 3, 0, 3, 0, 3, 0, 3, 0, 3, 0, 3,\n",
       "       0, 3, 0, 3, 0, 3, 0, 3, 0, 3, 0, 3, 0, 3, 0, 3, 0, 3, 0, 3, 0, 4,\n",
       "       0, 3, 4, 4, 4, 4, 4, 4, 4, 4, 4, 4, 4, 4, 4, 4, 4, 4, 4, 4, 4, 4,\n",
       "       4, 4, 4, 4, 4, 4, 4, 4, 4, 4, 4, 4, 4, 4, 4, 4, 4, 4, 4, 4, 4, 4,\n",
       "       4, 4, 4, 4, 4, 4, 4, 4, 4, 4, 4, 4, 4, 4, 4, 4, 4, 4, 4, 4, 4, 4,\n",
       "       4, 4, 4, 4, 4, 4, 4, 4, 4, 4, 4, 4, 4, 1, 2, 1, 4, 1, 2, 1, 2, 1,\n",
       "       4, 1, 2, 1, 2, 1, 2, 1, 2, 1, 4, 1, 2, 1, 2, 1, 2, 1, 2, 1, 2, 1,\n",
       "       2, 1, 2, 1, 2, 1, 2, 1, 2, 1, 2, 1, 2, 1, 2, 1, 2, 1, 2, 1, 2, 1,\n",
       "       2, 1, 2, 1, 2, 1, 2, 1, 2, 1, 2, 1, 2, 1, 2, 1, 2, 1, 2, 1, 2, 1,\n",
       "       2, 1])"
      ]
     },
     "execution_count": 27,
     "metadata": {},
     "output_type": "execute_result"
    }
   ],
   "source": [
    "clusters"
   ]
  },
  {
   "cell_type": "code",
   "execution_count": 29,
   "id": "10ca41fd",
   "metadata": {},
   "outputs": [
    {
     "data": {
      "text/plain": [
       "<matplotlib.collections.PathCollection at 0x2513f2b55b0>"
      ]
     },
     "execution_count": 29,
     "metadata": {},
     "output_type": "execute_result"
    },
    {
     "data": {
      "image/png": "[encoded data removed]",
      "text/plain": [
       "<Figure size 1152x504 with 1 Axes>"
      ]
     },
     "metadata": {
      "needs_background": "light"
     },
     "output_type": "display_data"
    }
   ],
   "source": [
    "plt.figure(figsize=(16,7))\n",
    "plt.scatter(X[clusters==0,0],X[clusters==0,1], s=50 , label='Cluster 1')\n",
    "plt.scatter(X[clusters==1,0],X[clusters==1,1], s=50, label='Cluster 1')\n",
    "plt.scatter(X[clusters==2,0],X[clusters==2,1], s=50,  label='Cluster 1')      #2,0 is x -cordinate, 2,1 is y\n",
    "plt.scatter(X[clusters==3,0],X[clusters==3,1], s=50, label='Cluster 1')\n",
    "plt.scatter(X[clusters==4,0],X[clusters==4,1], s=50,  label='Cluster 1')"
   ]
  },
  {
   "cell_type": "markdown",
   "id": "4fa95ebd",
   "metadata": {},
   "source": []
  }
 ],
 "metadata": {
  "kernelspec": {
   "display_name": "Python 3 (ipykernel)",
   "language": "python",
   "name": "python3"
  },
  "language_info": {
   "codemirror_mode": {
    "name": "ipython",
    "version": 3
   },
   "file_extension": ".py",
   "mimetype": "text/x-python",
   "name": "python",
   "nbconvert_exporter": "python",
   "pygments_lexer": "ipython3",
   "version": "3.9.7"
  }
 },
 "nbformat": 4,
 "nbformat_minor": 5
}
